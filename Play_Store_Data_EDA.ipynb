{
  "nbformat": 4,
  "nbformat_minor": 0,
  "metadata": {
    "colab": {
      "private_outputs": true,
      "provenance": [],
      "collapsed_sections": [
        "vncDsAP0Gaoa",
        "w6K7xa23Elo4",
        "mDgbUHAGgjLW",
        "gIfDvo9L0UH2"
      ],
      "include_colab_link": true
    },
    "kernelspec": {
      "name": "python3",
      "display_name": "Python 3"
    },
    "language_info": {
      "name": "python"
    }
  },
  "cells": [
    {
      "cell_type": "markdown",
      "metadata": {
        "id": "view-in-github",
        "colab_type": "text"
      },
      "source": [
        "<a href=\"https://colab.research.google.com/github/shrirajnimbhorkar/Play-Store-Data-EDA/blob/main/Play_Store_Data_EDA.ipynb\" target=\"_parent\"><img src=\"https://colab.research.google.com/assets/colab-badge.svg\" alt=\"Open In Colab\"/></a>"
      ]
    },
    {
      "cell_type": "markdown",
      "source": [
        "# **Project Name**    - Play Store App Review Analysis\n",
        "\n"
      ],
      "metadata": {
        "id": "vncDsAP0Gaoa"
      }
    },
    {
      "cell_type": "markdown",
      "source": [
        "##### **Project Type**    - EDA\n",
        "##### **Contribution**    - Individual\n",
        "##### **Team Member 1 -** - Shriraj Nimbhorkar\n",
        "##### **Team Member 2 -**\n",
        "##### **Team Member 3 -**\n",
        "##### **Team Member 4 -**"
      ],
      "metadata": {
        "id": "beRrZCGUAJYm"
      }
    },
    {
      "cell_type": "markdown",
      "source": [
        "# **Project Summary -**"
      ],
      "metadata": {
        "id": "FJNUwmbgGyua"
      }
    },
    {
      "cell_type": "markdown",
      "source": [
        "One beautiful day, Mr. Adam and Ms. Barbara plans to start their own venture which needs developing an Android mobile application. Before getting their hands dirty on necessary tools and skills, they wanted to know how to build a good android application. They approached one of their good friend Mr. Dan who has skills in data scinece to help them out in studying current trends and insights of Google Play Store.\n",
        "\n",
        "*Google Play store is an online store where people go to find their favorite apps, games and movies, TV shows, books and much more. It provides 3.55 million apps and games to billions of people around the world generating over $120 billion in earnings for developers to date.*\n",
        "\n",
        "Mr. Dan's task is to do analysis of Play store app review dataset and discovering key factors responsible for application engagement and success. The team of three will seek to find answers to how the users of various apps are responding by analysing their reviews.\n",
        "The Purpose of this data analysis is to come up with significant revealations about user responses and actionable insights for developers on which they can work and capture android app marketplace."
      ],
      "metadata": {
        "id": "PZ2dolQsiKbA"
      }
    },
    {
      "cell_type": "markdown",
      "source": [
        "# **GitHub Link -**"
      ],
      "metadata": {
        "id": "w6K7xa23Elo4"
      }
    },
    {
      "cell_type": "markdown",
      "source": [
        "Provide your GitHub Link here."
      ],
      "metadata": {
        "id": "h1o69JH3Eqqn"
      }
    },
    {
      "cell_type": "markdown",
      "source": [
        "# **Problem Statement**\n"
      ],
      "metadata": {
        "id": "yQaldy8SH6Dl"
      }
    },
    {
      "cell_type": "markdown",
      "source": [
        "Play Store is a great marketplace for downloading android applications for smartphones. The sales of smartphones is rapidly increasing day by day all around the World. It has proven to be a very lookrative marketplace for App developers as users needs and wants are diversifying and increasing. Catering to such ever increasing user needs need constant development and updation.\n",
        "Currently, the two largest global platforms for app distribution are Apple’s App Store (for iOS Smartphone users) and Google play store (official app store for the Android smartphone users). For our research, we have picked Google play store and did a thorough analysis of its features that were available to us for predicting the success of a particular app. The huge number of apps in the play store and the numbers of the app released every day make it quite competitive for the app developers, the companies who are building an app to come up with a unique idea that will definitely be bought by the end users. Because at the end of the day if the app does not perform well in the android market, then all the hard work behind building the app will go in vain.\n",
        "It is crucial for businesses to find out what type of apps people are downloading, what are their needs and sentiments, how does size, price and category type impact Ratings and sentiments of apps, before developing an app and listing that on play store."
      ],
      "metadata": {
        "id": "DpeJGUA3kjGy"
      }
    },
    {
      "cell_type": "markdown",
      "source": [
        "#### **Define Your Business Objective?**"
      ],
      "metadata": {
        "id": "PH-0ReGfmX4f"
      }
    },
    {
      "cell_type": "markdown",
      "source": [
        "*   To analyze google play store apps by implementing Data Science process\n",
        "*   To find out relationship between various variables such as ratings, installatins, reviews, sizes, etc.\n",
        "*   To determine valuable insights from patterns and trends\n",
        "\n"
      ],
      "metadata": {
        "id": "PhDvGCAqmjP1"
      }
    },
    {
      "cell_type": "markdown",
      "source": [
        "# **General Guidelines** : -  "
      ],
      "metadata": {
        "id": "mDgbUHAGgjLW"
      }
    },
    {
      "cell_type": "markdown",
      "source": [
        "1.   Well-structured, formatted, and commented code is required.\n",
        "2.   Exception Handling, Production Grade Code & Deployment Ready Code will be a plus. Those students will be awarded some additional credits.\n",
        "     \n",
        "     The additional credits will have advantages over other students during Star Student selection.\n",
        "       \n",
        "             [ Note: - Deployment Ready Code is defined as, the whole .ipynb notebook should be executable in one go\n",
        "                       without a single error logged. ]\n",
        "\n",
        "3.   Each and every logic should have proper comments.\n",
        "4. You may add as many number of charts you want. Make Sure for each and every chart the following format should be answered.\n",
        "        \n",
        "\n",
        "```\n",
        "# Chart visualization code\n",
        "```\n",
        "            \n",
        "\n",
        "*   Why did you pick the specific chart?\n",
        "*   What is/are the insight(s) found from the chart?\n",
        "* Will the gained insights help creating a positive business impact?\n",
        "Are there any insights that lead to negative growth? Justify with specific reason.\n",
        "\n",
        "5. You have to create at least 20 logical & meaningful charts having important insights.\n",
        "\n",
        "\n",
        "[ Hints : - Do the Vizualization in  a structured way while following \"UBM\" Rule.\n",
        "\n",
        "U - Univariate Analysis,\n",
        "\n",
        "B - Bivariate Analysis (Numerical - Categorical, Numerical - Numerical, Categorical - Categorical)\n",
        "\n",
        "M - Multivariate Analysis\n",
        " ]\n",
        "\n",
        "\n",
        "\n"
      ],
      "metadata": {
        "id": "ZrxVaUj-hHfC"
      }
    },
    {
      "cell_type": "markdown",
      "source": [
        "# ***Let's Begin !***"
      ],
      "metadata": {
        "id": "O_i_v8NEhb9l"
      }
    },
    {
      "cell_type": "markdown",
      "source": [
        "## ***1. Know Your Data***"
      ],
      "metadata": {
        "id": "HhfV-JJviCcP"
      }
    },
    {
      "cell_type": "markdown",
      "source": [
        "### Import Libraries"
      ],
      "metadata": {
        "id": "Y3lxredqlCYt"
      }
    },
    {
      "cell_type": "code",
      "source": [
        "# Importing Libraries\n",
        "import numpy as np\n",
        "import pandas as pd\n",
        "import seaborn as sns\n",
        "import matplotlib.pyplot as plt\n",
        "from google.colab import drive"
      ],
      "metadata": {
        "id": "M8Vqi-pPk-HR"
      },
      "execution_count": null,
      "outputs": []
    },
    {
      "cell_type": "markdown",
      "source": [
        "### Dataset Loading"
      ],
      "metadata": {
        "id": "3RnN4peoiCZX"
      }
    },
    {
      "cell_type": "code",
      "source": [
        "# Mounting Drive\n",
        "drive.mount('/content/drive')"
      ],
      "metadata": {
        "id": "4CkvbW_SlZ_R"
      },
      "execution_count": null,
      "outputs": []
    },
    {
      "cell_type": "code",
      "source": [
        "# Loading Datasets\n",
        "filepath1='/content/drive/MyDrive/EDA/Play Store Data.csv'\n",
        "play_store_data=pd.read_csv(filepath1) # Play Store Data loaded\n",
        "filepath2='/content/drive/MyDrive/EDA/User Reviews.csv'\n",
        "User_reviews_df=pd.read_csv(filepath2) # User Reviews Data Loaded\n"
      ],
      "metadata": {
        "id": "QUJePwOitjx8"
      },
      "execution_count": null,
      "outputs": []
    },
    {
      "cell_type": "markdown",
      "source": [
        "### Dataset First View"
      ],
      "metadata": {
        "id": "x71ZqKXriCWQ"
      }
    },
    {
      "cell_type": "code",
      "source": [
        "# Dataset First Look\n",
        "play_store_data.head()"
      ],
      "metadata": {
        "id": "LWNFOSvLl09H"
      },
      "execution_count": null,
      "outputs": []
    },
    {
      "cell_type": "code",
      "source": [
        "User_reviews_df.head()"
      ],
      "metadata": {
        "id": "rySLNqh5vIai"
      },
      "execution_count": null,
      "outputs": []
    },
    {
      "cell_type": "markdown",
      "source": [
        "### Dataset Rows & Columns count"
      ],
      "metadata": {
        "id": "7hBIi_osiCS2"
      }
    },
    {
      "cell_type": "code",
      "source": [
        "# Dataset Rows & Columns count\n",
        "print('Play store data')\n",
        "print('Rows count :')\n",
        "print(len(play_store_data))\n",
        "print('Columns count :')\n",
        "play_store_data.shape[1]"
      ],
      "metadata": {
        "id": "Kllu7SJgmLij"
      },
      "execution_count": null,
      "outputs": []
    },
    {
      "cell_type": "code",
      "source": [
        "print('User Reviews')\n",
        "print('Rows count :')\n",
        "print(len(User_reviews_df))\n",
        "print('Columns count :')\n",
        "User_reviews_df.shape[1]\n"
      ],
      "metadata": {
        "id": "lDBwSAfSwNpV"
      },
      "execution_count": null,
      "outputs": []
    },
    {
      "cell_type": "markdown",
      "source": [
        "### Dataset Information"
      ],
      "metadata": {
        "id": "JlHwYmJAmNHm"
      }
    },
    {
      "cell_type": "code",
      "source": [
        "# Dataset Info\n",
        "# First Dataset\n",
        "play_store_data.info()"
      ],
      "metadata": {
        "id": "e9hRXRi6meOf"
      },
      "execution_count": null,
      "outputs": []
    },
    {
      "cell_type": "code",
      "source": [
        "# Second Dataset\n",
        "User_reviews_df.info()"
      ],
      "metadata": {
        "id": "rnvjjF8twuuk"
      },
      "execution_count": null,
      "outputs": []
    },
    {
      "cell_type": "markdown",
      "source": [
        "#### Duplicate Values"
      ],
      "metadata": {
        "id": "35m5QtbWiB9F"
      }
    },
    {
      "cell_type": "code",
      "source": [
        "# Dataset Duplicate Value Count\n",
        "# Duplicates of apps will be of our concern. All apps must be unique\n",
        "play_store_data.duplicated(subset=['App'])"
      ],
      "metadata": {
        "id": "1sLdpKYkmox0"
      },
      "execution_count": null,
      "outputs": []
    },
    {
      "cell_type": "code",
      "source": [
        "User_reviews_df.duplicated(subset=['Translated_Review'])"
      ],
      "metadata": {
        "id": "jenchnoP5w64"
      },
      "execution_count": null,
      "outputs": []
    },
    {
      "cell_type": "markdown",
      "source": [
        "\n",
        "\n",
        "*   We found out that all apps are unique and so with the case with user reviews. We dont need to drop any data for duplicates\n",
        "\n"
      ],
      "metadata": {
        "id": "FFyt5C5GJB-O"
      }
    },
    {
      "cell_type": "markdown",
      "source": [
        "#### Missing Values/Null Values"
      ],
      "metadata": {
        "id": "PoPl-ycgm1ru"
      }
    },
    {
      "cell_type": "code",
      "source": [
        "# Missing Values/Null Values Count\n",
        "play_store_data.isna().sum()"
      ],
      "metadata": {
        "id": "GgHWkxvamxVg"
      },
      "execution_count": null,
      "outputs": []
    },
    {
      "cell_type": "code",
      "source": [
        "User_reviews_df.isna().sum()"
      ],
      "metadata": {
        "id": "PpEya5HHJgfs"
      },
      "execution_count": null,
      "outputs": []
    },
    {
      "cell_type": "code",
      "source": [
        "# Visualizing the missing values\n",
        "play_store_data.isnull().mean().plot.bar(figsize=(12,6))\n",
        "plt.ylabel('Percentage of missing values')\n",
        "plt.xlabel('Variables')\n",
        "plt.title('Quantifying missing data of play store data')\n",
        "plt.show()"
      ],
      "metadata": {
        "id": "_6G1xI7_PPp2"
      },
      "execution_count": null,
      "outputs": []
    },
    {
      "cell_type": "code",
      "source": [
        "# Visualizing the missing values\n",
        "User_reviews_df.isnull().mean().plot.bar(figsize=(12,6))\n",
        "plt.ylabel('Percentage of missing values')\n",
        "plt.xlabel('Variables')\n",
        "plt.title('Quantifying missing data of User Reviews')\n",
        "plt.show()"
      ],
      "metadata": {
        "id": "3q5wnI3om9sJ"
      },
      "execution_count": null,
      "outputs": []
    },
    {
      "cell_type": "code",
      "source": [
        "# Replace missing ratings values with 0\n",
        "play_store_data['Rating']=play_store_data['Rating'].fillna(0)\n",
        "# We will drop rows having null values whose count is very neglegible\n",
        "play_store_data.dropna(inplace=True)\n",
        "play_store_data.info()"
      ],
      "metadata": {
        "id": "G5LKWVKYTjNR"
      },
      "execution_count": null,
      "outputs": []
    },
    {
      "cell_type": "code",
      "source": [
        "# Drop Missing Value in User reviews\n",
        "# If we dont have any value in 'Translated_Review' column then there is no real use of keeping that data.\n",
        "User_reviews_df.dropna(inplace=True)"
      ],
      "metadata": {
        "id": "mimA99xBOqQY"
      },
      "execution_count": null,
      "outputs": []
    },
    {
      "cell_type": "code",
      "source": [
        "User_reviews_df.info()"
      ],
      "metadata": {
        "id": "wrQLfXl2PG_0"
      },
      "execution_count": null,
      "outputs": []
    },
    {
      "cell_type": "markdown",
      "source": [
        "### What did you know about your dataset?"
      ],
      "metadata": {
        "id": "H0kj-8xxnORC"
      }
    },
    {
      "cell_type": "markdown",
      "source": [
        "We have 2 datasets here which we will analyse with the intent to come up with valuable insights as to what kind application should be developed by developer and what to expect from the app."
      ],
      "metadata": {
        "id": "gfoNAAC-nUe_"
      }
    },
    {
      "cell_type": "markdown",
      "source": [
        "## ***2. Understanding Your Variables***"
      ],
      "metadata": {
        "id": "nA9Y7ga8ng1Z"
      }
    },
    {
      "cell_type": "code",
      "source": [
        "# Dataset Columns\n",
        "play_store_data.columns"
      ],
      "metadata": {
        "id": "j7xfkqrt5Ag5"
      },
      "execution_count": null,
      "outputs": []
    },
    {
      "cell_type": "code",
      "source": [
        "User_reviews_df.columns"
      ],
      "metadata": {
        "id": "8fRYejMdWIwt"
      },
      "execution_count": null,
      "outputs": []
    },
    {
      "cell_type": "code",
      "source": [
        "# Dataset Describe\n",
        "play_store_data.describe()"
      ],
      "metadata": {
        "id": "DnOaZdaE5Q5t"
      },
      "execution_count": null,
      "outputs": []
    },
    {
      "cell_type": "code",
      "source": [
        "User_reviews_df.describe()"
      ],
      "metadata": {
        "id": "5ePz_pudXeZD"
      },
      "execution_count": null,
      "outputs": []
    },
    {
      "cell_type": "markdown",
      "source": [
        "### Variables Description"
      ],
      "metadata": {
        "id": "PBTbrJXOngz2"
      }
    },
    {
      "cell_type": "markdown",
      "source": [
        "*   From The dataset of Play Store Data, rating is the numerical variable which describes how much users have liked the overall experience of the app. Its the User feedback given on the scale of 0 to 5.\n",
        "\n",
        "\n",
        "*   From the dataset of User Reviews, Sentiment Polarity and Sentiment Subjectivity are the numerical variables. Sentiment Polarity by defination means the orientation of the expressed sentiment, i.e., it determines if the text expresses the positive, negative or neutral sentiment of the user about the entity in consideration. Senitment Subjectivity is the degree to which an individual is personally invested in an item.\n",
        "\n",
        "\n"
      ],
      "metadata": {
        "id": "aJV4KIxSnxay"
      }
    },
    {
      "cell_type": "markdown",
      "source": [
        "### Check Unique Values for each variable."
      ],
      "metadata": {
        "id": "u3PMJOP6ngxN"
      }
    },
    {
      "cell_type": "code",
      "source": [
        "# Check Unique Values for each variable.\n",
        "play_store_data['Rating'].unique()"
      ],
      "metadata": {
        "id": "zms12Yq5n-jE"
      },
      "execution_count": null,
      "outputs": []
    },
    {
      "cell_type": "code",
      "source": [
        "User_reviews_df['Sentiment_Polarity'].unique()"
      ],
      "metadata": {
        "id": "Z3WLvNfofugJ"
      },
      "execution_count": null,
      "outputs": []
    },
    {
      "cell_type": "code",
      "source": [
        "User_reviews_df['Sentiment_Subjectivity'].unique()"
      ],
      "metadata": {
        "id": "7iYX69Jhf4a1"
      },
      "execution_count": null,
      "outputs": []
    },
    {
      "cell_type": "markdown",
      "source": [
        "## 3. ***Data Wrangling***"
      ],
      "metadata": {
        "id": "dauF4eBmngu3"
      }
    },
    {
      "cell_type": "markdown",
      "source": [
        "### Data Wrangling Code"
      ],
      "metadata": {
        "id": "bKJF3rekwFvQ"
      }
    },
    {
      "cell_type": "code",
      "source": [
        "# Write your code to make your dataset analysis ready.\n",
        "\n",
        "play_store_data['Installs']=play_store_data['Installs'].str.replace('+','', regex=True) # Changing the data type of Installs into int64\n",
        "play_store_data['Installs']=play_store_data['Installs'].str.replace(',','', regex=True)\n",
        "play_store_data['Installs']=play_store_data['Installs'].astype(int)"
      ],
      "metadata": {
        "id": "IOqjXDK-kpxQ"
      },
      "execution_count": null,
      "outputs": []
    },
    {
      "cell_type": "code",
      "source": [
        "play_store_data['Reviews']=play_store_data['Reviews'].astype(int)"
      ],
      "metadata": {
        "id": "eHhFOpO3f-CD"
      },
      "execution_count": null,
      "outputs": []
    },
    {
      "cell_type": "code",
      "source": [
        "play_store_data.dtypes # Cross checking all data types"
      ],
      "metadata": {
        "id": "SujIsV7M6xp6"
      },
      "execution_count": null,
      "outputs": []
    },
    {
      "cell_type": "code",
      "source": [
        "#Converting Last Updated column into proper datetime format\n",
        "play_store_data['Last Updated']=play_store_data['Last Updated'].apply(lambda x:pd.to_datetime(x.strip(), format='%B %d, %Y'))"
      ],
      "metadata": {
        "id": "wk-9a2fpoLcV"
      },
      "execution_count": null,
      "outputs": []
    },
    {
      "cell_type": "code",
      "source": [
        "play_store_data"
      ],
      "metadata": {
        "id": "AKip6ZbO87eU"
      },
      "execution_count": null,
      "outputs": []
    },
    {
      "cell_type": "code",
      "source": [
        "# Extracting useful dataframes\n",
        "Content_rating_df=play_store_data.groupby('Content Rating', as_index=False).agg({'App':'count'}).sort_values(by=['Content Rating']).rename(columns={'App':'Apps Count'})\n",
        "Content_rating_df"
      ],
      "metadata": {
        "id": "gtIkNf4bw6Wy"
      },
      "execution_count": null,
      "outputs": []
    },
    {
      "cell_type": "code",
      "source": [
        "reviews_df=play_store_data.groupby('Category',as_index=False).agg({'Reviews':'count'}).rename(columns={'Reviews':'Reviews_count'})\n",
        "reviews_df"
      ],
      "metadata": {
        "id": "K_KvuzKK4uO_"
      },
      "execution_count": null,
      "outputs": []
    },
    {
      "cell_type": "code",
      "source": [
        "play_store_data['Size']=play_store_data['Size'].str.replace('M','', regex=True)"
      ],
      "metadata": {
        "id": "26DmVrnZ-TKU"
      },
      "execution_count": null,
      "outputs": []
    },
    {
      "cell_type": "code",
      "source": [
        "play_store_data.rename(columns={'Size':'Size in MB'}, inplace=True)"
      ],
      "metadata": {
        "id": "6uBr8_cb-_4x"
      },
      "execution_count": null,
      "outputs": []
    },
    {
      "cell_type": "code",
      "source": [
        "from prompt_toolkit.application.application import E\n",
        "def rating_scale(rating):\n",
        "  if rating>=0.0 and rating<1.0:\n",
        "    return '0-1'\n",
        "  elif rating>=1.0 and rating<2.0:\n",
        "    return '1-2'\n",
        "  elif rating>=2.0 and rating<3.0:\n",
        "    return '2-3'\n",
        "  elif rating>=3.0 and rating<4.0:\n",
        "    return'3-4'\n",
        "  else:\n",
        "    return '4-5'\n"
      ],
      "metadata": {
        "id": "pf80OrZtcVpf"
      },
      "execution_count": null,
      "outputs": []
    },
    {
      "cell_type": "code",
      "source": [
        "play_store_data['Rating Group']=play_store_data['Rating'].apply(lambda x: rating_scale(x))"
      ],
      "metadata": {
        "id": "ERlaq_gPdVX0"
      },
      "execution_count": null,
      "outputs": []
    },
    {
      "cell_type": "code",
      "source": [
        "play_store_data"
      ],
      "metadata": {
        "id": "dN9pQCKldnr1"
      },
      "execution_count": null,
      "outputs": []
    },
    {
      "cell_type": "code",
      "source": [
        "Category_wise_PlayStoreData_df=play_store_data.groupby('Category', as_index=False).agg({'Rating':'mean','Reviews':'sum','Installs':'sum'}).rename(columns={'Rating':'Average Rating','Reviews':'Total Reviews','Installs':'Total Installations'}).sort_values(by=['Average Rating'], ascending=False)\n",
        "Category_wise_PlayStoreData_df"
      ],
      "metadata": {
        "id": "72VnoP31FZ8o"
      },
      "execution_count": null,
      "outputs": []
    },
    {
      "cell_type": "code",
      "source": [
        "Apps_count_df=play_store_data.groupby(['Category','Rating Group'], as_index=False).agg({'App':'count'})\n",
        "Apps_count_df.head(50)"
      ],
      "metadata": {
        "id": "t-KlknubgPO-"
      },
      "execution_count": null,
      "outputs": []
    },
    {
      "cell_type": "code",
      "source": [
        "available_sizes_df=play_store_data[play_store_data['Size in MB']!='Varies with device']\n",
        "available_sizes_df['Size in MB']=available_sizes_df['Size in MB'].str.replace('k','000')\n",
        "available_sizes_df['Size in MB']=available_sizes_df['Size in MB'].astype(float)"
      ],
      "metadata": {
        "id": "vvKYQjtOJR46"
      },
      "execution_count": null,
      "outputs": []
    },
    {
      "cell_type": "code",
      "source": [
        "Teen_df=play_store_data[play_store_data['Content Rating']=='Teen']\n",
        "Teen_df"
      ],
      "metadata": {
        "id": "FYpPZsYqg4o2"
      },
      "execution_count": null,
      "outputs": []
    },
    {
      "cell_type": "code",
      "source": [
        "# Converting Last Updated into datetime object\n",
        "play_store_data['Dates']=play_store_data['Last Updated'].dt.date\n",
        "data_time_df=play_store_data.groupby('Dates')['App'].count().reset_index()\n",
        "data_time_df"
      ],
      "metadata": {
        "id": "ELWaDJZsnfqu"
      },
      "execution_count": null,
      "outputs": []
    },
    {
      "cell_type": "code",
      "source": [
        "User_reviews_df"
      ],
      "metadata": {
        "id": "T2RcYCwJCf94"
      },
      "execution_count": null,
      "outputs": []
    },
    {
      "cell_type": "code",
      "source": [
        "# Finding top 10 User reviews based on total count of reviews\n",
        "top_10_apps=User_reviews_df['App'].value_counts().iloc[:10].index.tolist()"
      ],
      "metadata": {
        "id": "GnKYNss6Bv5f"
      },
      "execution_count": null,
      "outputs": []
    },
    {
      "cell_type": "code",
      "source": [
        "top_10_apps_df=User_reviews_df.loc[User_reviews_df['App'].isin(top_10_apps)]"
      ],
      "metadata": {
        "id": "e6DDUQYzBvHh"
      },
      "execution_count": null,
      "outputs": []
    },
    {
      "cell_type": "code",
      "source": [
        "top_10_apps_df"
      ],
      "metadata": {
        "id": "Hx0cOUYy_Oz3"
      },
      "execution_count": null,
      "outputs": []
    },
    {
      "cell_type": "markdown",
      "source": [
        "### What all manipulations have you done and insights you found?"
      ],
      "metadata": {
        "id": "MSa1f5Uengrz"
      }
    },
    {
      "cell_type": "markdown",
      "source": [
        "We have converted Installs column to numeric value and Last Updated column to date time object for better analysis. We havent felt need to make any manipulations in User Reviews so far. We are confident this will be sufficient for carrying out visualizations tasks"
      ],
      "metadata": {
        "id": "LbyXE7I1olp8"
      }
    },
    {
      "cell_type": "markdown",
      "source": [
        "\n",
        "\n"
      ],
      "metadata": {
        "id": "hNACPsYcjBTo"
      }
    },
    {
      "cell_type": "markdown",
      "source": [
        "## ***4. Data Vizualization, Storytelling & Experimenting with charts : Understand the relationships between variables***"
      ],
      "metadata": {
        "id": "GF8Ens_Soomf"
      }
    },
    {
      "cell_type": "markdown",
      "source": [
        "#### Chart - 1"
      ],
      "metadata": {
        "id": "0wOQAZs5pc--"
      }
    },
    {
      "cell_type": "code",
      "source": [
        "play_store_data"
      ],
      "metadata": {
        "id": "DLlhuwbzEDeB"
      },
      "execution_count": null,
      "outputs": []
    },
    {
      "cell_type": "code",
      "source": [
        "# Chart - 1 visualization code\n",
        "plt.figure(figsize=(12,8))\n",
        "sns.barplot(data=Category_wise_PlayStoreData_df, x='Category',y='Average Rating')\n",
        "plt.xticks(rotation=90)\n",
        "plt.title('Average ratings for each category')\n",
        "plt.show()"
      ],
      "metadata": {
        "id": "7v_ESjsspbW7"
      },
      "execution_count": null,
      "outputs": []
    },
    {
      "cell_type": "markdown",
      "source": [
        "##### 1. Why did you pick the specific chart?"
      ],
      "metadata": {
        "id": "K5QZ13OEpz2H"
      }
    },
    {
      "cell_type": "markdown",
      "source": [
        "We can visually check the top 5 cateories with highest average user ratings"
      ],
      "metadata": {
        "id": "XESiWehPqBRc"
      }
    },
    {
      "cell_type": "markdown",
      "source": [
        "##### 2. What is/are the insight(s) found from the chart?"
      ],
      "metadata": {
        "id": "lQ7QKXXCp7Bj"
      }
    },
    {
      "cell_type": "markdown",
      "source": [
        "We found the top 5 categories with highest average ratings are 'Education', 'Art and Desisgn', 'Entertainment', 'Game', & 'Comics'"
      ],
      "metadata": {
        "id": "C_j1G7yiqdRP"
      }
    },
    {
      "cell_type": "markdown",
      "source": [
        "##### 3. Will the gained insights help creating a positive business impact?\n",
        "Are there any insights that lead to negative growth? Justify with specific reason."
      ],
      "metadata": {
        "id": "448CDAPjqfQr"
      }
    },
    {
      "cell_type": "markdown",
      "source": [
        "This insight will help to know which market segment will have high chances to perform better. While ignoring other market segments might proove to be loss of potential opportunities."
      ],
      "metadata": {
        "id": "3cspy4FjqxJW"
      }
    },
    {
      "cell_type": "markdown",
      "source": [
        "#### Chart - 2"
      ],
      "metadata": {
        "id": "KSlN3yHqYklG"
      }
    },
    {
      "cell_type": "code",
      "source": [
        "# Chart - 2 visualization code\n",
        "plt.figure(figsize=(12,8))\n",
        "sns.barplot(data=Category_wise_PlayStoreData_df, x='Category',y='Total Installations')\n",
        "plt.xticks(rotation=90)\n",
        "plt.title('Total Installations of each category')\n",
        "plt.show()"
      ],
      "metadata": {
        "id": "R4YgtaqtYklH"
      },
      "execution_count": null,
      "outputs": []
    },
    {
      "cell_type": "markdown",
      "source": [
        "##### 1. Why did you pick the specific chart?"
      ],
      "metadata": {
        "id": "t6dVpIINYklI"
      }
    },
    {
      "cell_type": "markdown",
      "source": [
        "We can find out which category has highest number of apps download"
      ],
      "metadata": {
        "id": "5aaW0BYyYklI"
      }
    },
    {
      "cell_type": "markdown",
      "source": [
        "##### 2. What is/are the insight(s) found from the chart?"
      ],
      "metadata": {
        "id": "ijmpgYnKYklI"
      }
    },
    {
      "cell_type": "markdown",
      "source": [
        "We found out that two categories, 'Game' and 'Communication' has highest app downloads followed by 'Social' and 'Productivity' apps"
      ],
      "metadata": {
        "id": "PSx9atu2YklI"
      }
    },
    {
      "cell_type": "markdown",
      "source": [
        "##### 3. Will the gained insights help creating a positive business impact?\n",
        "Are there any insights that lead to negative growth? Justify with specific reason."
      ],
      "metadata": {
        "id": "-JiQyfWJYklI"
      }
    },
    {
      "cell_type": "markdown",
      "source": [
        "The gained insight will help to select market segment which will create larger user base than other segments for business growth. However the competition will also be very high in these segments"
      ],
      "metadata": {
        "id": "BcBbebzrYklV"
      }
    },
    {
      "cell_type": "markdown",
      "source": [
        "#### Chart - 3"
      ],
      "metadata": {
        "id": "EM7whBJCYoAo"
      }
    },
    {
      "cell_type": "code",
      "source": [
        "# Chart - 3 visualization code\n"
      ],
      "metadata": {
        "id": "t6GMdE67YoAp"
      },
      "execution_count": null,
      "outputs": []
    },
    {
      "cell_type": "code",
      "source": [
        "plt.figure(figsize=(25,15))\n",
        "sns.barplot(data=Apps_count_df, x='Category',y='App', hue='Rating Group')\n",
        "plt.xticks(rotation=90)\n",
        "plt.title('Number of apps in each category based on rating group')\n",
        "plt.show()"
      ],
      "metadata": {
        "id": "9oLC0CKqS4KZ"
      },
      "execution_count": null,
      "outputs": []
    },
    {
      "cell_type": "markdown",
      "source": [
        "##### 1. Why did you pick the specific chart?"
      ],
      "metadata": {
        "id": "fge-S5ZAYoAp"
      }
    },
    {
      "cell_type": "markdown",
      "source": [
        "So as to know the distribution of number of apps in each category and in each rating group."
      ],
      "metadata": {
        "id": "5dBItgRVYoAp"
      }
    },
    {
      "cell_type": "markdown",
      "source": [
        "##### 2. What is/are the insight(s) found from the chart?"
      ],
      "metadata": {
        "id": "85gYPyotYoAp"
      }
    },
    {
      "cell_type": "markdown",
      "source": [
        "We found out that apps belonging to Family Category with higher ratings is higher in numbers followed by Game Category and Tools Category"
      ],
      "metadata": {
        "id": "4jstXR6OYoAp"
      }
    },
    {
      "cell_type": "markdown",
      "source": [
        "##### 3. Will the gained insights help creating a positive business impact?\n",
        "Are there any insights that lead to negative growth? Justify with specific reason."
      ],
      "metadata": {
        "id": "RoGjAbkUYoAp"
      }
    },
    {
      "cell_type": "markdown",
      "source": [
        "Although Number of apps with higher ratings are high in Family Category and Games Category, so the competition is also high. A lot more work needed to be done to outcomepete the competitors."
      ],
      "metadata": {
        "id": "zfJ8IqMcYoAp"
      }
    },
    {
      "cell_type": "markdown",
      "source": [
        "#### Chart - 4"
      ],
      "metadata": {
        "id": "4Of9eVA-YrdM"
      }
    },
    {
      "cell_type": "code",
      "source": [
        "# Chart - 4 visualization code\n",
        "plt.figure(figsize=(12,8))\n",
        "sns.scatterplot(data=play_store_data, x='Category',y='Rating', hue='Rating Group')\n",
        "plt.xticks(rotation=90)\n",
        "plt.title('Rating Distribution as per rating group for various categories')\n",
        "plt.show()"
      ],
      "metadata": {
        "id": "irlUoxc8YrdO"
      },
      "execution_count": null,
      "outputs": []
    },
    {
      "cell_type": "markdown",
      "source": [
        "##### 1. Why did you pick the specific chart?"
      ],
      "metadata": {
        "id": "iky9q4vBYrdO"
      }
    },
    {
      "cell_type": "markdown",
      "source": [
        "To know th distribution of Ratings over each category and find out which category has maximum distribution on higher rating side."
      ],
      "metadata": {
        "id": "aJRCwT6DYrdO"
      }
    },
    {
      "cell_type": "markdown",
      "source": [
        "##### 2. What is/are the insight(s) found from the chart?"
      ],
      "metadata": {
        "id": "F6T5p64dYrdO"
      }
    },
    {
      "cell_type": "markdown",
      "source": [
        "Some Categories have ratings distribution on higher side which are 'Environment', 'Libraries and Demo', 'Weather' and 'Beauty'"
      ],
      "metadata": {
        "id": "Xx8WAJvtYrdO"
      }
    },
    {
      "cell_type": "markdown",
      "source": [
        "##### 3. Will the gained insights help creating a positive business impact?\n",
        "Are there any insights that lead to negative growth? Justify with specific reason."
      ],
      "metadata": {
        "id": "y-Ehk30pYrdP"
      }
    },
    {
      "cell_type": "markdown",
      "source": [
        "These can be considered as safe bets in order to develop new app.Dowside might be less number customers which might lead to negative growth."
      ],
      "metadata": {
        "id": "jLNxxz7MYrdP"
      }
    },
    {
      "cell_type": "markdown",
      "source": [
        "#### Chart - 5"
      ],
      "metadata": {
        "id": "bamQiAODYuh1"
      }
    },
    {
      "cell_type": "code",
      "source": [
        "# Chart - 5 visualization code\n",
        "plt.figure(figsize=(12,8))\n",
        "sns.boxplot(data=play_store_data,x='Content Rating', y='Rating')\n",
        "plt.xticks(rotation=90)\n",
        "plt.title('Rating Distribution as per age demographics')\n",
        "plt.show()"
      ],
      "metadata": {
        "id": "JDs-jnjOvEh_"
      },
      "execution_count": null,
      "outputs": []
    },
    {
      "cell_type": "markdown",
      "source": [
        "##### 1. Why did you pick the specific chart?"
      ],
      "metadata": {
        "id": "QHF8YVU7Yuh3"
      }
    },
    {
      "cell_type": "markdown",
      "source": [
        "To Understand age demographics amongst ratings given to the apps."
      ],
      "metadata": {
        "id": "dcxuIMRPYuh3"
      }
    },
    {
      "cell_type": "markdown",
      "source": [
        "##### 2. What is/are the insight(s) found from the chart?"
      ],
      "metadata": {
        "id": "GwzvFGzlYuh3"
      }
    },
    {
      "cell_type": "markdown",
      "source": [
        "Ratings given by 'adults only 18+' demographic and 'Teen' demographic has no outliers and minimum outliers towards minimal ratings respectively."
      ],
      "metadata": {
        "id": "uyqkiB8YYuh3"
      }
    },
    {
      "cell_type": "markdown",
      "source": [
        "##### 3. Will the gained insights help creating a positive business impact?\n",
        "Are there any insights that lead to negative growth? Justify with specific reason."
      ],
      "metadata": {
        "id": "qYpmQ266Yuh3"
      }
    },
    {
      "cell_type": "markdown",
      "source": [
        "We can see that Teen demographics has good ratings distribution towards higher side. Developer can focus on adult only 18+ and teen segments as target segments."
      ],
      "metadata": {
        "id": "_WtzZ_hCYuh4"
      }
    },
    {
      "cell_type": "markdown",
      "source": [
        "#### Chart - 6"
      ],
      "metadata": {
        "id": "OH-pJp9IphqM"
      }
    },
    {
      "cell_type": "code",
      "source": [
        "# Chart - 6 visualization code\n",
        "play_store_data.groupby('Content Rating')['Installs'].count().plot.pie(figsize=(5,5), autopct='%1.2f%%')"
      ],
      "metadata": {
        "id": "kuRf4wtuphqN"
      },
      "execution_count": null,
      "outputs": []
    },
    {
      "cell_type": "markdown",
      "source": [
        "##### 1. Why did you pick the specific chart?"
      ],
      "metadata": {
        "id": "bbFf2-_FphqN"
      }
    },
    {
      "cell_type": "markdown",
      "source": [
        "To know the number of apps distribution for each demographic."
      ],
      "metadata": {
        "id": "loh7H2nzphqN"
      }
    },
    {
      "cell_type": "markdown",
      "source": [
        "##### 2. What is/are the insight(s) found from the chart?"
      ],
      "metadata": {
        "id": "_ouA3fa0phqN"
      }
    },
    {
      "cell_type": "markdown",
      "source": [
        "Apps made for everyone and Teen categories are large in number. However apps for Adult only 18+ segment has very low count."
      ],
      "metadata": {
        "id": "VECbqPI7phqN"
      }
    },
    {
      "cell_type": "markdown",
      "source": [
        "##### 3. Will the gained insights help creating a positive business impact?\n",
        "Are there any insights that lead to negative growth? Justify with specific reason."
      ],
      "metadata": {
        "id": "Seke61FWphqN"
      }
    },
    {
      "cell_type": "markdown",
      "source": [
        "Developer Can see the visualization and decide as to which demographic should be chosen for develping an app. Adult only 18+ might have an unexplored potential. However, acquiring adult market is very difficult because the app market is predominantly for Everyone."
      ],
      "metadata": {
        "id": "DW4_bGpfphqN"
      }
    },
    {
      "cell_type": "markdown",
      "source": [
        "#### Chart - 7"
      ],
      "metadata": {
        "id": "PIIx-8_IphqN"
      }
    },
    {
      "cell_type": "code",
      "source": [
        "# Chart - 7 visualization code\n",
        "plt.figure(figsize=(12,8))\n",
        "sns.barplot(data=reviews_df,x='Category', y='Reviews_count')\n",
        "plt.xticks(rotation=90)\n",
        "plt.title('Total number of reviews per category')\n",
        "plt.show()"
      ],
      "metadata": {
        "id": "lqAIGUfyphqO"
      },
      "execution_count": null,
      "outputs": []
    },
    {
      "cell_type": "markdown",
      "source": [
        "##### 1. Why did you pick the specific chart?"
      ],
      "metadata": {
        "id": "t27r6nlMphqO"
      }
    },
    {
      "cell_type": "markdown",
      "source": [
        "To know the number of reviews for each category of apps"
      ],
      "metadata": {
        "id": "iv6ro40sphqO"
      }
    },
    {
      "cell_type": "markdown",
      "source": [
        "##### 2. What is/are the insight(s) found from the chart?"
      ],
      "metadata": {
        "id": "r2jJGEOYphqO"
      }
    },
    {
      "cell_type": "markdown",
      "source": [
        "We found out that the number of apps in categories 'Family', 'Game' and 'Tools' has higher number of reviews amongst all categories"
      ],
      "metadata": {
        "id": "Po6ZPi4hphqO"
      }
    },
    {
      "cell_type": "markdown",
      "source": [
        "##### 3. Will the gained insights help creating a positive business impact?\n",
        "Are there any insights that lead to negative growth? Justify with specific reason."
      ],
      "metadata": {
        "id": "b0JNsNcRphqO"
      }
    },
    {
      "cell_type": "markdown",
      "source": [
        "This insight will help developer to focus on which categories he/she should develop an app. The number of reviews will help identify user sentiments and feedbacks. Higher the reviews, more clarity for developer to come up with business ideas."
      ],
      "metadata": {
        "id": "xvSq8iUTphqO"
      }
    },
    {
      "cell_type": "markdown",
      "source": [
        "#### Chart - 8"
      ],
      "metadata": {
        "id": "BZR9WyysphqO"
      }
    },
    {
      "cell_type": "code",
      "source": [
        "# Chart - 8 visualization code\n",
        "plt.figure(figsize=(12,8))\n",
        "sns.barplot(data=available_sizes_df,x='Category', y='Size in MB', estimator='mean', errorbar=None)\n",
        "plt.xticks(rotation=90)\n",
        "plt.title('Reation between categories and Sizes of Apps')\n",
        "plt.show()"
      ],
      "metadata": {
        "id": "TdPTWpAVphqO"
      },
      "execution_count": null,
      "outputs": []
    },
    {
      "cell_type": "markdown",
      "source": [
        "##### 1. Why did you pick the specific chart?"
      ],
      "metadata": {
        "id": "jj7wYXLtphqO"
      }
    },
    {
      "cell_type": "markdown",
      "source": [
        "To know which category apps have whcih installtions sizes."
      ],
      "metadata": {
        "id": "Ob8u6rCTphqO"
      }
    },
    {
      "cell_type": "markdown",
      "source": [
        "##### 2. What is/are the insight(s) found from the chart?"
      ],
      "metadata": {
        "id": "eZrbJ2SmphqO"
      }
    },
    {
      "cell_type": "markdown",
      "source": [
        "We found out that 'Libraries_and_demo', 'communication' and 'Tools' require more device space as compared to other apps. While 'Game', 'Travel and Locals'and 'News and Magazines' require less device space as compared to other apps."
      ],
      "metadata": {
        "id": "mZtgC_hjphqO"
      }
    },
    {
      "cell_type": "markdown",
      "source": [
        "##### 3. Will the gained insights help creating a positive business impact?\n",
        "Are there any insights that lead to negative growth? Justify with specific reason."
      ],
      "metadata": {
        "id": "rFu4xreNphqO"
      }
    },
    {
      "cell_type": "markdown",
      "source": [
        "Developers can plan in advance what should be the size of the app based on the category in which they are competing. This might put unnecessary constraints on app size which might produce inefficient apps. The developers has to take care of that also."
      ],
      "metadata": {
        "id": "ey_0qi68phqO"
      }
    },
    {
      "cell_type": "markdown",
      "source": [
        "#### Chart - 9"
      ],
      "metadata": {
        "id": "YJ55k-q6phqO"
      }
    },
    {
      "cell_type": "code",
      "source": [
        "# Chart - 9 visualization code\n",
        "plt.figure(figsize=(12,8))\n",
        "sns.countplot(x=Teen_df['Category'], order=Teen_df['Category'].value_counts().index)\n",
        "plt.xticks(rotation=90)\n",
        "plt.title('Top 5 Categories Teen Preferred')\n",
        "plt.show()"
      ],
      "metadata": {
        "id": "LrWGBG1EcYpq"
      },
      "execution_count": null,
      "outputs": []
    },
    {
      "cell_type": "markdown",
      "source": [
        "##### 1. Why did you pick the specific chart?"
      ],
      "metadata": {
        "id": "gCFgpxoyphqP"
      }
    },
    {
      "cell_type": "markdown",
      "source": [
        "To find what categories Teens are interested in."
      ],
      "metadata": {
        "id": "TVxDimi2phqP"
      }
    },
    {
      "cell_type": "markdown",
      "source": [
        "##### 2. What is/are the insight(s) found from the chart?"
      ],
      "metadata": {
        "id": "OVtJsKN_phqQ"
      }
    },
    {
      "cell_type": "markdown",
      "source": [
        "Teens are particulary interested in Games, Family and Scoial and Entertainment categories"
      ],
      "metadata": {
        "id": "ngGi97qjphqQ"
      }
    },
    {
      "cell_type": "markdown",
      "source": [
        "##### 3. Will the gained insights help creating a positive business impact?\n",
        "Are there any insights that lead to negative growth? Justify with specific reason."
      ],
      "metadata": {
        "id": "lssrdh5qphqQ"
      }
    },
    {
      "cell_type": "markdown",
      "source": [
        "Buseness developer will find it usefull to decide niche areas to target for business development."
      ],
      "metadata": {
        "id": "tBpY5ekJphqQ"
      }
    },
    {
      "cell_type": "markdown",
      "source": [
        "#### Chart - 10"
      ],
      "metadata": {
        "id": "U2RJ9gkRphqQ"
      }
    },
    {
      "cell_type": "code",
      "source": [
        "# Chart - 10 visualization code\n",
        "data_time_df"
      ],
      "metadata": {
        "id": "41MMmWUymou5"
      },
      "execution_count": null,
      "outputs": []
    },
    {
      "cell_type": "code",
      "source": [
        "plt.figure(figsize=(20,10))\n",
        "sns.lineplot(data=data_time_df, x='Dates', y='App')\n",
        "plt.title('Trend of Last updation of apps')\n",
        "plt.show()"
      ],
      "metadata": {
        "id": "_ZEn83N8mdlo"
      },
      "execution_count": null,
      "outputs": []
    },
    {
      "cell_type": "markdown",
      "source": [
        "##### 1. Why did you pick the specific chart?"
      ],
      "metadata": {
        "id": "1M8mcRywphqQ"
      }
    },
    {
      "cell_type": "markdown",
      "source": [
        "To know how app updations/ Apps added with time"
      ],
      "metadata": {
        "id": "8agQvks0phqQ"
      }
    },
    {
      "cell_type": "markdown",
      "source": [
        "##### 2. What is/are the insight(s) found from the chart?"
      ],
      "metadata": {
        "id": "tgIPom80phqQ"
      }
    },
    {
      "cell_type": "markdown",
      "source": [
        "Recently after 2018 so many new apps are added/updated."
      ],
      "metadata": {
        "id": "Qp13pnNzphqQ"
      }
    },
    {
      "cell_type": "markdown",
      "source": [
        "##### 3. Will the gained insights help creating a positive business impact?\n",
        "Are there any insights that lead to negative growth? Justify with specific reason."
      ],
      "metadata": {
        "id": "JMzcOPDDphqR"
      }
    },
    {
      "cell_type": "markdown",
      "source": [
        "The Play store app market looks exploded in recent years with so many new apps added or updated. This show positive tren and looks to continue in near time also. Its posiive sign for developers and business owners to tap the App market"
      ],
      "metadata": {
        "id": "R4Ka1PC2phqR"
      }
    },
    {
      "cell_type": "markdown",
      "source": [
        "#### Chart - 11"
      ],
      "metadata": {
        "id": "x-EpHcCOp1ci"
      }
    },
    {
      "cell_type": "code",
      "source": [
        "# Chart - 11 visualization code\n",
        "plt.figure(figsize=(10,8))\n",
        "sns.countplot(x=User_reviews_df['App'], order=User_reviews_df['App'].value_counts().iloc[:10].index)\n",
        "plt.title('Top 10 Apps with highest reviews')\n",
        "plt.xticks(rotation=90)\n",
        "plt.show()"
      ],
      "metadata": {
        "id": "oC9e84wL4OUx"
      },
      "execution_count": null,
      "outputs": []
    },
    {
      "cell_type": "markdown",
      "source": [
        "##### 1. Why did you pick the specific chart?"
      ],
      "metadata": {
        "id": "X_VqEhTip1ck"
      }
    },
    {
      "cell_type": "markdown",
      "source": [
        "This chart helps us find out apps with high number of reviews."
      ],
      "metadata": {
        "id": "-vsMzt_np1ck"
      }
    },
    {
      "cell_type": "markdown",
      "source": [
        "##### 2. What is/are the insight(s) found from the chart?"
      ],
      "metadata": {
        "id": "8zGJKyg5p1ck"
      }
    },
    {
      "cell_type": "markdown",
      "source": [
        "We have extracted top 10 apps with higher number of reviews. That means these are the apps people are more talking about."
      ],
      "metadata": {
        "id": "ZYdMsrqVp1ck"
      }
    },
    {
      "cell_type": "markdown",
      "source": [
        "##### 3. Will the gained insights help creating a positive business impact?\n",
        "Are there any insights that lead to negative growth? Justify with specific reason."
      ],
      "metadata": {
        "id": "PVzmfK_Ep1ck"
      }
    },
    {
      "cell_type": "markdown",
      "source": [
        "Instead of studying entire data, developer can focus their study of user reviews on top 10 apps with higher number of reviews and draw key conclusions which will help planning and designing stage of app. However other insights might miss related to apps which dont belong to top 10 category which might lead to negative growth."
      ],
      "metadata": {
        "id": "druuKYZpp1ck"
      }
    },
    {
      "cell_type": "markdown",
      "source": [
        "#### Chart - 12"
      ],
      "metadata": {
        "id": "n3dbpmDWp1ck"
      }
    },
    {
      "cell_type": "code",
      "source": [
        "# Chart - 12 visualization code\n",
        "plt.figure(figsize=(25,15))\n",
        "sns.countplot(data=top_10_apps_df, x='App', hue='Sentiment')\n",
        "plt.xticks(rotation=90)\n",
        "plt.title('Reviews distribution of top 10 apps from User Review data based on Sentiment')\n",
        "plt.show()"
      ],
      "metadata": {
        "id": "qusHyMKcPXhp"
      },
      "execution_count": null,
      "outputs": []
    },
    {
      "cell_type": "markdown",
      "source": [
        "##### 1. Why did you pick the specific chart?"
      ],
      "metadata": {
        "id": "ylSl6qgtp1ck"
      }
    },
    {
      "cell_type": "markdown",
      "source": [
        "So as to know how total number of reviews are distributed based on sentiment amongst top 10 apps which are extracted from the data based on higher number of reviews."
      ],
      "metadata": {
        "id": "m2xqNkiQp1ck"
      }
    },
    {
      "cell_type": "markdown",
      "source": [
        "##### 2. What is/are the insight(s) found from the chart?"
      ],
      "metadata": {
        "id": "ZWILFDl5p1ck"
      }
    },
    {
      "cell_type": "markdown",
      "source": [
        "Some apps have more positive reviews than the negative reiviews (Calorie Counter-Macros, Duolingo: Learn Languages Free, 10 Best Foods for you) while some apps have more negative reviews than the positives (8 Ball Pool, Angry Birds Classic, Candy Crush Saga)"
      ],
      "metadata": {
        "id": "x-lUsV2mp1ck"
      }
    },
    {
      "cell_type": "markdown",
      "source": [
        "##### 3. Will the gained insights help creating a positive business impact?\n",
        "Are there any insights that lead to negative growth? Justify with specific reason."
      ],
      "metadata": {
        "id": "M7G43BXep1ck"
      }
    },
    {
      "cell_type": "markdown",
      "source": [
        "The develper can find out that amongst apps with higher reviews which type of apps have more positive reviews and which ones have negative reviews. This data will help in designing an app by studying both positives and negatives from the reviews."
      ],
      "metadata": {
        "id": "5wwDJXsLp1cl"
      }
    },
    {
      "cell_type": "markdown",
      "source": [
        "#### Chart - 13"
      ],
      "metadata": {
        "id": "Ag9LCva-p1cl"
      }
    },
    {
      "cell_type": "code",
      "source": [
        "# Chart - 13 visualization code\n",
        "plt.figure(figsize=(20,12))\n",
        "sns.scatterplot(data=User_reviews_df, x='Sentiment_Polarity',y='Sentiment_Subjectivity', hue='Sentiment')\n",
        "plt.xticks(rotation=90)\n",
        "plt.title('Relationship between Sentiment Ploarity and Sentiment Subjectivity')\n",
        "plt.show()"
      ],
      "metadata": {
        "id": "_4ACzJ3qAt-b"
      },
      "execution_count": null,
      "outputs": []
    },
    {
      "cell_type": "markdown",
      "source": [
        "##### 1. Why did you pick the specific chart?"
      ],
      "metadata": {
        "id": "E6MkPsBcp1cl"
      }
    },
    {
      "cell_type": "markdown",
      "source": [
        "Te get the relatioonship between Sentiment polarity and sentiment subjectivity based on Three Sentiments which are Positive, negative and Neutral."
      ],
      "metadata": {
        "id": "V22bRsFWp1cl"
      }
    },
    {
      "cell_type": "markdown",
      "source": [
        "##### 2. What is/are the insight(s) found from the chart?"
      ],
      "metadata": {
        "id": "2cELzS2fp1cl"
      }
    },
    {
      "cell_type": "markdown",
      "source": [
        "There is somewhat positive relationship between sentiment Subjectivity and Sentiment Polarity with most of Sentiment Subjectivity is clustered in the range of -o.375 to 0.5 of Sentiment Polarity."
      ],
      "metadata": {
        "id": "ozQPc2_Ip1cl"
      }
    },
    {
      "cell_type": "markdown",
      "source": [
        "##### 3. Will the gained insights help creating a positive business impact?\n",
        "Are there any insights that lead to negative growth? Justify with specific reason."
      ],
      "metadata": {
        "id": "3MPXvC8up1cl"
      }
    },
    {
      "cell_type": "markdown",
      "source": [
        "Various users across the globe of various apps have moderate personalised opinions and are moderately involved with apps most of which are positive. The developer can use this data to determine what outcome should be expected while developing an app from the users. Developer can have plan to address moderate negative reviews in advance and also can create roadmap as how it will take the users to have strong and positive opinions and high engagement."
      ],
      "metadata": {
        "id": "GL8l1tdLp1cl"
      }
    },
    {
      "cell_type": "markdown",
      "source": [
        "#### Chart - 14 - Correlation Heatmap"
      ],
      "metadata": {
        "id": "NC_X3p0fY2L0"
      }
    },
    {
      "cell_type": "code",
      "source": [
        "# Correlation Heatmap visualization code\n",
        "plt.figure(figsize=(8,4))\n",
        "sns.heatmap(data=play_store_data.corr(), annot=True)\n",
        "plt.title('Feature Correlation of Play Store Data')\n",
        "plt.show()"
      ],
      "metadata": {
        "id": "oRy_nXS7B_ZZ"
      },
      "execution_count": null,
      "outputs": []
    },
    {
      "cell_type": "code",
      "source": [
        "# Correlation Heatmap visualization code\n",
        "plt.figure(figsize=(8,4))\n",
        "sns.heatmap(data=User_reviews_df.corr(), annot=True)\n",
        "plt.title('Feature Correlation of User Reviews')\n",
        "plt.show()"
      ],
      "metadata": {
        "id": "xyC9zolEZNRQ"
      },
      "execution_count": null,
      "outputs": []
    },
    {
      "cell_type": "markdown",
      "source": [
        "##### 1. Why did you pick the specific chart?"
      ],
      "metadata": {
        "id": "UV0SzAkaZNRQ"
      }
    },
    {
      "cell_type": "markdown",
      "source": [
        "So as to know the correlation between the vatiables on each axis."
      ],
      "metadata": {
        "id": "DVPuT8LYZNRQ"
      }
    },
    {
      "cell_type": "markdown",
      "source": [],
      "metadata": {
        "id": "lAPNuIJYIJRN"
      }
    },
    {
      "cell_type": "markdown",
      "source": [
        "##### 2. What is/are the insight(s) found from the chart?"
      ],
      "metadata": {
        "id": "YPEH6qLeZNRQ"
      }
    },
    {
      "cell_type": "markdown",
      "source": [
        "As we can see the non-diagonal values are closer to 0. that means there is slightly linear trend between two variables, sentiment polarity and sentiment subjectivity in User Reviews data and positively linear trend between Reviews and Installs variables in Play Store data."
      ],
      "metadata": {
        "id": "bfSqtnDqZNRR"
      }
    },
    {
      "cell_type": "markdown",
      "source": [
        "#### Chart - 15 - Pair Plot"
      ],
      "metadata": {
        "id": "q29F0dvdveiT"
      }
    },
    {
      "cell_type": "code",
      "source": [
        "# Pair Plot visualization code\n",
        "plt.figure(figsize=(20,15))\n",
        "sns.pairplot(play_store_data, hue='Rating')\n",
        "plt.show()"
      ],
      "metadata": {
        "id": "o58-TEIhveiU"
      },
      "execution_count": null,
      "outputs": []
    },
    {
      "cell_type": "code",
      "source": [
        "# Pair Plot visualization code\n",
        "plt.figure(figsize=(20,15))\n",
        "sns.pairplot(User_reviews_df, hue='Sentiment')\n",
        "plt.show()"
      ],
      "metadata": {
        "id": "J999Hu0qDBBw"
      },
      "execution_count": null,
      "outputs": []
    },
    {
      "cell_type": "markdown",
      "source": [
        "##### 1. Why did you pick the specific chart?"
      ],
      "metadata": {
        "id": "EXh0U9oCveiU"
      }
    },
    {
      "cell_type": "markdown",
      "source": [
        "So as to examine distributions and relationships in play store data and user reviews data of various variables."
      ],
      "metadata": {
        "id": "eMmPjTByveiU"
      }
    },
    {
      "cell_type": "markdown",
      "source": [
        "##### 2. What is/are the insight(s) found from the chart?"
      ],
      "metadata": {
        "id": "22aHeOlLveiV"
      }
    },
    {
      "cell_type": "markdown",
      "source": [
        "The variables in the datasets are not much correlated to each other. However in User reviews we can see that sentiment ploarity as well as sentiment subjectivity are higher on positive reviews than the negative reviews"
      ],
      "metadata": {
        "id": "uPQ8RGwHveiV"
      }
    },
    {
      "cell_type": "markdown",
      "source": [
        "## **5. Solution to Business Objective**"
      ],
      "metadata": {
        "id": "JcMwzZxoAimU"
      }
    },
    {
      "cell_type": "markdown",
      "source": [
        "#### What do you suggest the client to achieve Business Objective ?\n",
        "\n",
        "\n",
        "1.   I Suggest following categories to enter into Smartphone Applications marketplace for developing an app: 'Education', 'Art and Design', 'Entertainment', 'Game', 'Comics', 'Communication', 'Social', 'Productivity', 'Family' and 'Tools'. These categories are found out to be most installed, reviewed and rated apps on play store. Considering product positioning in these categories while developing an app will be prfotiable and helpful for creating and building brand\n",
        "2.   'Teen' is a good market niche as they are interested in Games, Entertainment, Social Media and Family apps.\n",
        "3.   Competition in android market place has increased recently. Hence analysing and studying reviews carefully before stepping in planning and design is crucial for any business.\n",
        "4.   There are some apps which has created lots of buzz amongst android users. These are 'Bowmasters', 'Helix Jump', 'Angry Birds Classic', 'Calorie Counter - MyFitnessPal', 'Duolingo: Learn Languages Free', 'Candy Crush Saga', 'Garena Free Fire', '8 Ball Pool', 'Calorie Counter - Macros', '10 Best Foods for You'. It is advisable to the client to study these apps and analyse their reviews so as to find out potential for new business ideas."
      ],
      "metadata": {
        "id": "8G2x9gOozGDZ"
      }
    },
    {
      "cell_type": "markdown",
      "source": [
        "# **Conclusion**"
      ],
      "metadata": {
        "id": "gCX9965dhzqZ"
      }
    },
    {
      "cell_type": "markdown",
      "source": [
        "\n",
        "\n",
        "1.   Play Store Data has 10841 rows and 13 columns. Whereas User Reviews dataset has 64295 rows and 5 columns\n",
        "2.   Missing Values in Play Store Data has following null values: Rating-1474, Type-1, Current Ver-8, Android Ver-5. Whereas User Reviews dataset has 26868 null values in all columns except App column.\n",
        "3.   With the help of data wrangling techniques, we have cleaned datasets and extracted some usefull dataframes, which we utilized for data visualizations, which are as below\n",
        "\n",
        "\n",
        "*   Content_rating_df (from play_store_data)\n",
        "*   reviews_df (from play_store_data)\n",
        "*   Category_wise_PlayStoreData_df (from play_store_data)\n",
        "*   Apps_count_df (from play_store_data)\n",
        "*   Teen_df (from play_store_data)\n",
        "*   data_time_df (from play_store_data)\n",
        "*   top_10_apps_df (from User_reviews_df)\n",
        "\n",
        "4.   We used countplots, barplots, scatterplots, boxplot, pie-charts heatmap and pairplots to understand the datasets, their variables distribution and relationships between variables which gave us various insights regarding Reviews, Ratings, Content Rating, Sizes, Installations, Number of reviews, top performing apps on playstore, User sentiments, etc.\n",
        "\n",
        "5.   Based on observed insights we gave solution to the client.\n",
        "\n",
        "\n",
        "\n",
        "\n",
        "\n",
        "  \n",
        "  \n",
        "  \n",
        "  \n",
        "  \n",
        "  \n",
        "  \n",
        "\n"
      ],
      "metadata": {
        "id": "Avr3v3Zu6dsM"
      }
    },
    {
      "cell_type": "markdown",
      "source": [
        "Write the conclusion here."
      ],
      "metadata": {
        "id": "Fjb1IsQkh3yE"
      }
    },
    {
      "cell_type": "markdown",
      "source": [
        "### ***Hurrah! You have successfully completed your EDA Capstone Project !!!***"
      ],
      "metadata": {
        "id": "gIfDvo9L0UH2"
      }
    }
  ]
}